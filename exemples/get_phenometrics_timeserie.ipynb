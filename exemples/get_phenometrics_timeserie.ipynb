{
 "cells": [
  {
   "cell_type": "code",
   "execution_count": 1,
   "id": "c72ade8a-58c7-4adf-88a6-284c90741160",
   "metadata": {
    "editable": true,
    "slideshow": {
     "slide_type": ""
    },
    "tags": []
   },
   "outputs": [],
   "source": [
    "from cshd import params_phenometrics, cube_query, get_phenometrics"
   ]
  },
  {
   "cell_type": "code",
   "execution_count": 2,
   "id": "a3d82975-ebb2-4d90-b796-cd7a50f6d531",
   "metadata": {
    "editable": true,
    "slideshow": {
     "slide_type": ""
    },
    "tags": []
   },
   "outputs": [],
   "source": [
    "config = params_phenometrics(\n",
    "    peak_metric='pos', \n",
    "    base_metric='vos', \n",
    "    method='seasonal_amplitude', \n",
    "    factor=0.2, \n",
    "    thresh_sides='two_sided', \n",
    "    abs_value=0.1\n",
    ")"
   ]
  },
  {
   "cell_type": "code",
   "execution_count": 3,
   "id": "f3530f2a-8c62-4c6a-b553-3eef1f064302",
   "metadata": {
    "editable": true,
    "slideshow": {
     "slide_type": ""
    },
    "tags": []
   },
   "outputs": [
    {
     "data": {
      "text/plain": [
       "{'peak_metric': 'pos',\n",
       " 'base_metric': 'vos',\n",
       " 'method': 'seasonal_amplitude',\n",
       " 'factor': 0.2,\n",
       " 'thresh_sides': 'two_sided',\n",
       " 'abs_value': 0.1,\n",
       " 'format': None,\n",
       " 'type': None}"
      ]
     },
     "execution_count": 3,
     "metadata": {},
     "output_type": "execute_result"
    }
   ],
   "source": [
    "config"
   ]
  },
  {
   "cell_type": "code",
   "execution_count": 4,
   "id": "678c29a7-648c-4bac-80f0-98514e06b9dd",
   "metadata": {
    "editable": true,
    "slideshow": {
     "slide_type": ""
    },
    "tags": []
   },
   "outputs": [],
   "source": [
    "S2_cube = cube_query(\n",
    "    collection=\"S2-16D-2\",\n",
    "    start_date=\"2020-01-01\",\n",
    "    end_date=\"2020-12-31\",\n",
    "    freq='16D',\n",
    "    bands=[\"NDVI\"]\n",
    ")"
   ]
  },
  {
   "cell_type": "code",
   "execution_count": 5,
   "id": "20d9a433-8d78-4c8b-a254-22f9d5ae1e86",
   "metadata": {
    "editable": true,
    "slideshow": {
     "slide_type": ""
    },
    "tags": []
   },
   "outputs": [
    {
     "data": {
      "text/plain": [
       "{'collection': 'S2-16D-2',\n",
       " 'bands': ['NDVI'],\n",
       " 'start_date': '2020-01-01',\n",
       " 'end_date': '2020-12-31',\n",
       " 'freq': '16D'}"
      ]
     },
     "execution_count": 5,
     "metadata": {},
     "output_type": "execute_result"
    }
   ],
   "source": [
    "S2_cube"
   ]
  },
  {
   "cell_type": "code",
   "execution_count": 6,
   "id": "8297f78c-aab1-428b-bfd2-021b8bd98830",
   "metadata": {
    "editable": true,
    "slideshow": {
     "slide_type": ""
    },
    "tags": []
   },
   "outputs": [
    {
     "name": "stdout",
     "output_type": "stream",
     "text": [
      "|====================================================================================================| 100%\n",
      "https://brazildatacube.dpi.inpe.br/wtss/time_series?coverage=S2-16D-2&attributes=NDVI&start_date=2020-01-01&end_date=2020-12-31&latitude=-13.68668633547038&longitude=-52.4538803100586\n",
      "Initialising calculation of phenometrics.\n",
      "\n",
      "Beginning extraction of CRS metadata.\n",
      "> Extracting CRS metadata.\n",
      "> No CRS metadata found. Returning None.\n",
      "\n",
      "Beginning calculation of phenometrics. This can take awhile - please wait.\n",
      "\n",
      "Beginning calculation of peak of season (pos) values and times.\n",
      "> Calculating peak of season (pos) values.\n",
      "> Calculating peak of season (pos) times.\n",
      "> Success!\n",
      "\n",
      "Beginning calculation of valley of season (vos) values and times.\n",
      "> Calculating valley of season (vos) values.\n",
      "> Calculating valley of season (vos) times.\n",
      "> Success!\n",
      "\n",
      "Beginning calculation of middle of season (mos) values (times not possible).\n",
      "> Calculating middle of season (mos) values.\n",
      "> Success!\n",
      "\n",
      "Beginning calculation of base (bse) values (times not possible).\n",
      "> Calculating base (bse) values.\n",
      "> Success!\n",
      "\n",
      "Beginning calculation of amplitude of season (aos) values (times not possible).\n",
      "> Calculating amplitude of season (aos) values.\n",
      "> Success!\n",
      "\n",
      "Beginning calculation of start of season (sos) values and times.\n",
      "> Calculating start of season (sos) values via method: seasonal_amplitude.\n",
      "> Calculating start of season (sos) times via method: seasonal_amplitude.\n",
      "> Success!\n",
      "\n",
      "Beginning calculation of end of season (eos) values and times.\n",
      "> Calculating end of season (eos) values via method: seasonal_amplitude.\n",
      "> Calculating end of season (eos) times via method: seasonal_amplitude.\n",
      "> Success!\n",
      "\n",
      "Beginning calculation of length of season (los) values (times not possible).\n",
      "> Calculating length of season (los) values.\n",
      "> Success!\n",
      "\n",
      "Beginning calculation of rate of increase (roi) values (times not possible).\n",
      "> Calculating rate of increase (roi) values.\n",
      "> Success!\n",
      "\n",
      "Beginning calculation of rate of decrease (rod) values (times not possible).\n",
      "> Calculating rate of decrease (rod) values.\n",
      "> Success!\n",
      "\n",
      "Beginning calculation of long integral of season (lios) values (times not possible).\n",
      "> Calculating long integral of season (lios) values.\n",
      "> Success!\n",
      "\n",
      "Beginning calculation of short integral of season (sios) values (times not possible).\n",
      "> Calculating short integral of season (sios) values.\n",
      "> Success!\n",
      "\n",
      "Beginning calculation of long integral of total (liot) values (times not possible).\n",
      "> Calculating long integral of total (liot) values.\n",
      "> Success!\n",
      "\n",
      "Beginning calculation of short integral of total (siot) values (times not possible).\n",
      "> Calculating short integral of total (siot) values.\n",
      "> Success!\n",
      "\n",
      "Beginning addition of CRS metadata.\n",
      "> Adding CRS metadata.\n",
      "> Could not add CRS metadata to data. Aborting.\n",
      "\n",
      "Phenometrics calculated successfully!\n"
     ]
    }
   ],
   "source": [
    "ds_phenos = get_phenometrics(\n",
    "    cube=S2_cube,\n",
    "    geom=[dict(coordinates = [-52.4538803100586, -13.68668633547038 ])],\n",
    "    engine='phenolopy',\n",
    "    config=config\n",
    ")"
   ]
  },
  {
   "cell_type": "code",
   "execution_count": 7,
   "id": "90bc7e0f-10b5-46d8-9eb8-ce04959c5f32",
   "metadata": {
    "editable": true,
    "slideshow": {
     "slide_type": ""
    },
    "tags": []
   },
   "outputs": [
    {
     "data": {
      "text/plain": [
       "{'phenometrics': {'sos_v': 3834.0,\n",
       "  'sos_t': '2020-02-19T00:00:00',\n",
       "  'pos_v': 8509.0,\n",
       "  'pos_t': '2020-03-22T00:00:00',\n",
       "  'vos_v': 2022.0,\n",
       "  'vos_t': '2020-09-14T00:00:00',\n",
       "  'eos_v': 3553.0,\n",
       "  'eos_t': '2020-06-10T00:00:00'},\n",
       " 'timeseries': {'attributes': [{'attribute': 'NDVI',\n",
       "    'values': [3849.0,\n",
       "     2329.0,\n",
       "     4567.0,\n",
       "     3834.0,\n",
       "     6802.0,\n",
       "     8509.0,\n",
       "     8317.0,\n",
       "     7564.0,\n",
       "     4566.0,\n",
       "     3612.0,\n",
       "     3553.0,\n",
       "     2493.0,\n",
       "     2495.0,\n",
       "     2358.0,\n",
       "     2254.0,\n",
       "     2144.0,\n",
       "     2022.0,\n",
       "     2103.0,\n",
       "     2060.0,\n",
       "     2610.0,\n",
       "     4375.0,\n",
       "     6136.0,\n",
       "     6382.0]}],\n",
       "  'timeline': ['2020-01-01T00:00:00',\n",
       "   '2020-01-17T00:00:00',\n",
       "   '2020-02-02T00:00:00',\n",
       "   '2020-02-18T00:00:00',\n",
       "   '2020-03-05T00:00:00',\n",
       "   '2020-03-21T00:00:00',\n",
       "   '2020-04-06T00:00:00',\n",
       "   '2020-04-22T00:00:00',\n",
       "   '2020-05-08T00:00:00',\n",
       "   '2020-05-24T00:00:00',\n",
       "   '2020-06-09T00:00:00',\n",
       "   '2020-06-25T00:00:00',\n",
       "   '2020-07-11T00:00:00',\n",
       "   '2020-07-27T00:00:00',\n",
       "   '2020-08-12T00:00:00',\n",
       "   '2020-08-28T00:00:00',\n",
       "   '2020-09-13T00:00:00',\n",
       "   '2020-09-29T00:00:00',\n",
       "   '2020-10-15T00:00:00',\n",
       "   '2020-10-31T00:00:00',\n",
       "   '2020-11-16T00:00:00',\n",
       "   '2020-12-02T00:00:00',\n",
       "   '2020-12-18T00:00:00'],\n",
       "  'coordinates': {'latitude': -13.68668633547038,\n",
       "   'longitude': -52.4538803100586,\n",
       "   'col': 638,\n",
       "   'row': 3149}}}"
      ]
     },
     "execution_count": 7,
     "metadata": {},
     "output_type": "execute_result"
    }
   ],
   "source": [
    "ds_phenos "
   ]
  },
  {
   "cell_type": "code",
   "execution_count": 8,
   "id": "53b07cde",
   "metadata": {},
   "outputs": [],
   "source": [
    "import matplotlib.pyplot as plt\n",
    "import pandas as pd\n",
    "from datetime import datetime\n",
    "from scipy import interpolate"
   ]
  },
  {
   "cell_type": "code",
   "execution_count": 9,
   "id": "c1659bbb",
   "metadata": {},
   "outputs": [],
   "source": [
    "dates_datetime64 = pd.date_range(pd.to_datetime(S2_cube['start_date'], format='%Y-%m-%d'), periods=len(ds_phenos['timeseries'][\"timeline\"]), freq=\"16D\")"
   ]
  },
  {
   "cell_type": "code",
   "execution_count": 10,
   "id": "f5d3b2d7",
   "metadata": {},
   "outputs": [],
   "source": [
    "dates_datetime64_2 = pd.date_range(pd.to_datetime(S2_cube['start_date'], format='%Y-%m-%d'), periods=360, freq=\"1D\")\n",
    "\n",
    "# x_new, bspline, y_new\n",
    "x_new = dates_datetime64_2\n",
    "bspline = interpolate.make_interp_spline(dates_datetime64, ds_phenos['timeseries']['attributes'][0]['values'])\n",
    "y_new = bspline(x_new)"
   ]
  },
  {
   "cell_type": "code",
   "execution_count": 11,
   "id": "484bdcc6",
   "metadata": {},
   "outputs": [
    {
     "data": {
      "text/plain": [
       "<matplotlib.legend.Legend at 0x17a81d6d0>"
      ]
     },
     "execution_count": 11,
     "metadata": {},
     "output_type": "execute_result"
    },
    {
     "data": {
      "image/png": "[encoded data removed]",
      "text/plain": [
       "<Figure size 640x480 with 1 Axes>"
      ]
     },
     "metadata": {},
     "output_type": "display_data"
    }
   ],
   "source": [
    "plt.plot(dates_datetime64, ds_phenos['timeseries']['attributes'][0]['values'], color='blue', label='Raw NDVI') \n",
    "plt.plot(x_new, y_new, color='red', label='Smooth NDVI') \n",
    "\n",
    "p = ds_phenos[\"phenometrics\"]\n",
    "\n",
    "sos_time = datetime.strptime(p['sos_t'], '%Y-%m-%dT00:00:00')\n",
    "plt.plot(sos_time, p['sos_v'], 'go', label='_nolegend_')\n",
    "plt.annotate('SOS', [sos_time, p['sos_v']])\n",
    "\n",
    "eos_time = datetime.strptime(p['eos_t'], '%Y-%m-%dT00:00:00')\n",
    "plt.plot(eos_time, p['eos_v'], 'go', label='_nolegend_')\n",
    "plt.annotate('EOS', [eos_time, p['eos_v']])\n",
    "\n",
    "pos_time = datetime.strptime(p['pos_t'], '%Y-%m-%dT00:00:00')\n",
    "plt.plot(pos_time, p['pos_v'], 'go', label='_nolegend_')\n",
    "plt.annotate('POS', [pos_time, p['pos_v']])\n",
    "\n",
    "vos_time = datetime.strptime(p['vos_t'], '%Y-%m-%dT00:00:00')\n",
    "plt.plot(vos_time, p['vos_v'], 'go', label='_nolegend_')\n",
    "plt.annotate('VOS', [vos_time, p['vos_v']])\n",
    "\n",
    "plt.axvspan(sos_time, eos_time, color='#9af8ff')\n",
    "\n",
    "plt.ylabel('Vegetation Health (NDVI)')\n",
    "plt.xlabel('Date')\n",
    "plt.legend(loc=\"upper right\")"
   ]
  }
 ],
 "metadata": {
  "kernelspec": {
   "display_name": "Python 3 (ipykernel)",
   "language": "python",
   "name": "python3"
  },
  "language_info": {
   "codemirror_mode": {
    "name": "ipython",
    "version": 3
   },
   "file_extension": ".py",
   "mimetype": "text/x-python",
   "name": "python",
   "nbconvert_exporter": "python",
   "pygments_lexer": "ipython3",
   "version": "3.12.3"
  }
 },
 "nbformat": 4,
 "nbformat_minor": 5
}
