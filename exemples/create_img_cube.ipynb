{
 "cells": [
  {
   "cell_type": "code",
   "execution_count": null,
   "id": "c72ade8a-58c7-4adf-88a6-284c90741160",
   "metadata": {
    "editable": true,
    "slideshow": {
     "slide_type": ""
    },
    "tags": []
   },
   "outputs": [],
   "source": [
    "from cshd import cshd_img_cube, params_phenometrics, calc_phenometrics\n",
    "import os"
   ]
  },
  {
   "cell_type": "code",
   "execution_count": null,
   "id": "83c6c645",
   "metadata": {},
   "outputs": [],
   "source": [
    "path_dir = os.path.abspath(\"\")\n",
    "\n",
    "ndvi_data_cube = cshd_img_cube(\n",
    "    data_dir=os.path.join(path_dir,'images/')\n",
    ")"
   ]
  },
  {
   "cell_type": "code",
   "execution_count": null,
   "id": "a9015a8e",
   "metadata": {},
   "outputs": [],
   "source": [
    "ndvi_data_cube"
   ]
  },
  {
   "cell_type": "code",
   "execution_count": null,
   "id": "cea3a448",
   "metadata": {},
   "outputs": [],
   "source": [
    "\n",
    "import matplotlib.pyplot as plt\n",
    "import os\n",
    "os.environ[\"KMP_DUPLICATE_LIB_OK\"]=\"TRUE\"\n"
   ]
  },
  {
   "cell_type": "code",
   "execution_count": null,
   "id": "5d93a893",
   "metadata": {},
   "outputs": [],
   "source": [
    "ndvi_data_cube_2d = ndvi_data_cube['band_data'].sel(time='2021-01-01')\n",
    "\n",
    "ndvi_data_cube_2d.plot()"
   ]
  },
  {
   "cell_type": "code",
   "execution_count": null,
   "id": "79259bea",
   "metadata": {},
   "outputs": [],
   "source": [
    "config = params_phenometrics(\n",
    "    peak_metric='pos', \n",
    "    base_metric='vos', \n",
    "    method='seasonal_amplitude', \n",
    "    factor=0.2, \n",
    "    thresh_sides='two_sided', \n",
    "    abs_value=0.1,\n",
    "    format='full'\n",
    ")"
   ]
  },
  {
   "cell_type": "code",
   "execution_count": null,
   "id": "45bb1577",
   "metadata": {},
   "outputs": [],
   "source": [
    "ds_phenos = calc_phenometrics(\n",
    "    da=ndvi_data_cube['band_data'],\n",
    "    engine='phenolopy',\n",
    "    config=config,\n",
    "    start_date='2019-01-01'\n",
    ")"
   ]
  },
  {
   "cell_type": "code",
   "execution_count": null,
   "id": "20f4a738",
   "metadata": {},
   "outputs": [],
   "source": [
    "ds_phenos"
   ]
  },
  {
   "cell_type": "code",
   "execution_count": null,
   "id": "66bdeeb9",
   "metadata": {},
   "outputs": [],
   "source": [
    "ds_phenos_2d = ds_phenos['eos_times']\n",
    "\n",
    "ds_phenos_2d.plot()"
   ]
  }
 ],
 "metadata": {
  "kernelspec": {
   "display_name": "Python 3 (ipykernel)",
   "language": "python",
   "name": "python3"
  },
  "language_info": {
   "codemirror_mode": {
    "name": "ipython",
    "version": 3
   },
   "file_extension": ".py",
   "mimetype": "text/x-python",
   "name": "python",
   "nbconvert_exporter": "python",
   "pygments_lexer": "ipython3",
   "version": "3.12.3"
  }
 },
 "nbformat": 4,
 "nbformat_minor": 5
}
