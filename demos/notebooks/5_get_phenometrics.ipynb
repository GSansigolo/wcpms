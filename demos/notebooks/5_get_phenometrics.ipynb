{
 "cells": [
  {
   "cell_type": "code",
   "execution_count": null,
   "id": "c72ade8a-58c7-4adf-88a6-284c90741160",
   "metadata": {
    "editable": true,
    "slideshow": {
     "slide_type": ""
    },
    "tags": []
   },
   "outputs": [],
   "source": [
    "from cshd import params_phenometrics, cube_query, get_phenometrics, plot_pheno"
   ]
  },
  {
   "cell_type": "code",
   "execution_count": null,
   "id": "a3d82975-ebb2-4d90-b796-cd7a50f6d531",
   "metadata": {
    "editable": true,
    "slideshow": {
     "slide_type": ""
    },
    "tags": []
   },
   "outputs": [],
   "source": [
    "config = params_phenometrics(\n",
    "    peak_metric='pos', \n",
    "    base_metric='vos', \n",
    "    method='seasonal_amplitude', \n",
    "    factor=0.2, \n",
    "    thresh_sides='two_sided', \n",
    "    abs_value=0.1,\n",
    "    date_format='yyyy-mm-dd'\n",
    ")"
   ]
  },
  {
   "cell_type": "code",
   "execution_count": null,
   "id": "678c29a7-648c-4bac-80f0-98514e06b9dd",
   "metadata": {
    "editable": true,
    "slideshow": {
     "slide_type": ""
    },
    "tags": []
   },
   "outputs": [],
   "source": [
    "S2_cube = cube_query(\n",
    "    collection=\"S2-16D-2\",\n",
    "    start_date=\"2020-01-01\",\n",
    "    end_date=\"2020-12-31\",\n",
    "    freq='16D',\n",
    "    band=\"NDVI\"\n",
    ")"
   ]
  },
  {
   "cell_type": "code",
   "execution_count": null,
   "id": "8297f78c-aab1-428b-bfd2-021b8bd98830",
   "metadata": {
    "editable": true,
    "slideshow": {
     "slide_type": ""
    },
    "tags": []
   },
   "outputs": [],
   "source": [
    "ds_phenos = get_phenometrics(\n",
    "    cube=S2_cube,\n",
    "    geom=[dict(coordinates = [-52.47134616677471,-13.67705998895876])],\n",
    "    engine='phenolopy',\n",
    "    smooth_method='savitsky',\n",
    "    cloud_filter = True,\n",
    "    interpolate = False,\n",
    "    config=config\n",
    ")"
   ]
  },
  {
   "cell_type": "code",
   "execution_count": null,
   "id": "519a8934",
   "metadata": {},
   "outputs": [],
   "source": [
    "ds_phenos"
   ]
  },
  {
   "cell_type": "code",
   "execution_count": null,
   "id": "d315c3d2",
   "metadata": {},
   "outputs": [],
   "source": [
    "plot_pheno(S2_cube, ds_phenos)"
   ]
  }
 ],
 "metadata": {
  "kernelspec": {
   "display_name": "Python 3 (ipykernel)",
   "language": "python",
   "name": "python3"
  },
  "language_info": {
   "codemirror_mode": {
    "name": "ipython",
    "version": 3
   },
   "file_extension": ".py",
   "mimetype": "text/x-python",
   "name": "python",
   "nbconvert_exporter": "python",
   "pygments_lexer": "ipython3",
   "version": "3.12.3"
  }
 },
 "nbformat": 4,
 "nbformat_minor": 5
}
